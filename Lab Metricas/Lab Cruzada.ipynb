{
 "cells": [
  {
   "cell_type": "code",
   "execution_count": 2,
   "id": "9b8fe7bf-3707-4978-a486-a961280436b8",
   "metadata": {},
   "outputs": [],
   "source": [
    "# Importación de librerías necesarias\n",
    "import numpy as np\n",
    "import pandas as pd\n",
    "from sklearn.model_selection import train_test_split\n",
    "from sklearn.ensemble import RandomForestClassifier\n",
    "from sklearn.metrics import confusion_matrix, ConfusionMatrixDisplay\n",
    "import matplotlib.pyplot as plt\n",
    "import seaborn as sns"
   ]
  },
  {
   "cell_type": "code",
   "execution_count": 3,
   "id": "fadb31e7-2561-4db1-8e2b-0e743829bc8f",
   "metadata": {},
   "outputs": [],
   "source": [
    "#rLeemos el csv\n",
    "data = pd.read_csv(\"AusDataForRainPred.csv\")"
   ]
  },
  {
   "cell_type": "code",
   "execution_count": 4,
   "id": "6431862c-9492-4caf-9077-0218cfb81f0c",
   "metadata": {},
   "outputs": [
    {
     "data": {
      "text/html": [
       "<div>\n",
       "<style scoped>\n",
       "    .dataframe tbody tr th:only-of-type {\n",
       "        vertical-align: middle;\n",
       "    }\n",
       "\n",
       "    .dataframe tbody tr th {\n",
       "        vertical-align: top;\n",
       "    }\n",
       "\n",
       "    .dataframe thead th {\n",
       "        text-align: right;\n",
       "    }\n",
       "</style>\n",
       "<table border=\"1\" class=\"dataframe\">\n",
       "  <thead>\n",
       "    <tr style=\"text-align: right;\">\n",
       "      <th></th>\n",
       "      <th>Date</th>\n",
       "      <th>Location</th>\n",
       "      <th>MinTemp</th>\n",
       "      <th>MaxTemp</th>\n",
       "      <th>Rainfall</th>\n",
       "      <th>Evaporation</th>\n",
       "      <th>Sunshine</th>\n",
       "      <th>WindGustDir</th>\n",
       "      <th>WindGustSpeed</th>\n",
       "      <th>WindDir9am</th>\n",
       "      <th>...</th>\n",
       "      <th>Humidity9am</th>\n",
       "      <th>Humidity3pm</th>\n",
       "      <th>Pressure9am</th>\n",
       "      <th>Pressure3pm</th>\n",
       "      <th>Cloud9am</th>\n",
       "      <th>Cloud3pm</th>\n",
       "      <th>Temp9am</th>\n",
       "      <th>Temp3pm</th>\n",
       "      <th>RainToday</th>\n",
       "      <th>RainTomorrow</th>\n",
       "    </tr>\n",
       "  </thead>\n",
       "  <tbody>\n",
       "    <tr>\n",
       "      <th>0</th>\n",
       "      <td>2008-12-01</td>\n",
       "      <td>Albury</td>\n",
       "      <td>13.4</td>\n",
       "      <td>22.9</td>\n",
       "      <td>0.6</td>\n",
       "      <td>NaN</td>\n",
       "      <td>NaN</td>\n",
       "      <td>W</td>\n",
       "      <td>44.0</td>\n",
       "      <td>W</td>\n",
       "      <td>...</td>\n",
       "      <td>71.0</td>\n",
       "      <td>22.0</td>\n",
       "      <td>1007.7</td>\n",
       "      <td>1007.1</td>\n",
       "      <td>8.0</td>\n",
       "      <td>NaN</td>\n",
       "      <td>16.9</td>\n",
       "      <td>21.8</td>\n",
       "      <td>No</td>\n",
       "      <td>No</td>\n",
       "    </tr>\n",
       "    <tr>\n",
       "      <th>1</th>\n",
       "      <td>2008-12-02</td>\n",
       "      <td>Albury</td>\n",
       "      <td>7.4</td>\n",
       "      <td>25.1</td>\n",
       "      <td>0.0</td>\n",
       "      <td>NaN</td>\n",
       "      <td>NaN</td>\n",
       "      <td>WNW</td>\n",
       "      <td>44.0</td>\n",
       "      <td>NNW</td>\n",
       "      <td>...</td>\n",
       "      <td>44.0</td>\n",
       "      <td>25.0</td>\n",
       "      <td>1010.6</td>\n",
       "      <td>1007.8</td>\n",
       "      <td>NaN</td>\n",
       "      <td>NaN</td>\n",
       "      <td>17.2</td>\n",
       "      <td>24.3</td>\n",
       "      <td>No</td>\n",
       "      <td>No</td>\n",
       "    </tr>\n",
       "    <tr>\n",
       "      <th>2</th>\n",
       "      <td>2008-12-03</td>\n",
       "      <td>Albury</td>\n",
       "      <td>12.9</td>\n",
       "      <td>25.7</td>\n",
       "      <td>0.0</td>\n",
       "      <td>NaN</td>\n",
       "      <td>NaN</td>\n",
       "      <td>WSW</td>\n",
       "      <td>46.0</td>\n",
       "      <td>W</td>\n",
       "      <td>...</td>\n",
       "      <td>38.0</td>\n",
       "      <td>30.0</td>\n",
       "      <td>1007.6</td>\n",
       "      <td>1008.7</td>\n",
       "      <td>NaN</td>\n",
       "      <td>2.0</td>\n",
       "      <td>21.0</td>\n",
       "      <td>23.2</td>\n",
       "      <td>No</td>\n",
       "      <td>No</td>\n",
       "    </tr>\n",
       "    <tr>\n",
       "      <th>3</th>\n",
       "      <td>2008-12-04</td>\n",
       "      <td>Albury</td>\n",
       "      <td>9.2</td>\n",
       "      <td>28.0</td>\n",
       "      <td>0.0</td>\n",
       "      <td>NaN</td>\n",
       "      <td>NaN</td>\n",
       "      <td>NE</td>\n",
       "      <td>24.0</td>\n",
       "      <td>SE</td>\n",
       "      <td>...</td>\n",
       "      <td>45.0</td>\n",
       "      <td>16.0</td>\n",
       "      <td>1017.6</td>\n",
       "      <td>1012.8</td>\n",
       "      <td>NaN</td>\n",
       "      <td>NaN</td>\n",
       "      <td>18.1</td>\n",
       "      <td>26.5</td>\n",
       "      <td>No</td>\n",
       "      <td>No</td>\n",
       "    </tr>\n",
       "    <tr>\n",
       "      <th>4</th>\n",
       "      <td>2008-12-05</td>\n",
       "      <td>Albury</td>\n",
       "      <td>17.5</td>\n",
       "      <td>32.3</td>\n",
       "      <td>1.0</td>\n",
       "      <td>NaN</td>\n",
       "      <td>NaN</td>\n",
       "      <td>W</td>\n",
       "      <td>41.0</td>\n",
       "      <td>ENE</td>\n",
       "      <td>...</td>\n",
       "      <td>82.0</td>\n",
       "      <td>33.0</td>\n",
       "      <td>1010.8</td>\n",
       "      <td>1006.0</td>\n",
       "      <td>7.0</td>\n",
       "      <td>8.0</td>\n",
       "      <td>17.8</td>\n",
       "      <td>29.7</td>\n",
       "      <td>No</td>\n",
       "      <td>No</td>\n",
       "    </tr>\n",
       "  </tbody>\n",
       "</table>\n",
       "<p>5 rows × 23 columns</p>\n",
       "</div>"
      ],
      "text/plain": [
       "         Date Location  MinTemp  MaxTemp  Rainfall  Evaporation  Sunshine  \\\n",
       "0  2008-12-01   Albury     13.4     22.9       0.6          NaN       NaN   \n",
       "1  2008-12-02   Albury      7.4     25.1       0.0          NaN       NaN   \n",
       "2  2008-12-03   Albury     12.9     25.7       0.0          NaN       NaN   \n",
       "3  2008-12-04   Albury      9.2     28.0       0.0          NaN       NaN   \n",
       "4  2008-12-05   Albury     17.5     32.3       1.0          NaN       NaN   \n",
       "\n",
       "  WindGustDir  WindGustSpeed WindDir9am  ... Humidity9am  Humidity3pm  \\\n",
       "0           W           44.0          W  ...        71.0         22.0   \n",
       "1         WNW           44.0        NNW  ...        44.0         25.0   \n",
       "2         WSW           46.0          W  ...        38.0         30.0   \n",
       "3          NE           24.0         SE  ...        45.0         16.0   \n",
       "4           W           41.0        ENE  ...        82.0         33.0   \n",
       "\n",
       "   Pressure9am  Pressure3pm  Cloud9am  Cloud3pm  Temp9am  Temp3pm  RainToday  \\\n",
       "0       1007.7       1007.1       8.0       NaN     16.9     21.8         No   \n",
       "1       1010.6       1007.8       NaN       NaN     17.2     24.3         No   \n",
       "2       1007.6       1008.7       NaN       2.0     21.0     23.2         No   \n",
       "3       1017.6       1012.8       NaN       NaN     18.1     26.5         No   \n",
       "4       1010.8       1006.0       7.0       8.0     17.8     29.7         No   \n",
       "\n",
       "   RainTomorrow  \n",
       "0            No  \n",
       "1            No  \n",
       "2            No  \n",
       "3            No  \n",
       "4            No  \n",
       "\n",
       "[5 rows x 23 columns]"
      ]
     },
     "execution_count": 4,
     "metadata": {},
     "output_type": "execute_result"
    }
   ],
   "source": [
    "data.head()"
   ]
  },
  {
   "cell_type": "markdown",
   "id": "d3971612-f2ad-4e2e-99b3-4e01aa7a444f",
   "metadata": {},
   "source": [
    "## Preparación de los datos:\n",
    "Vamos a seleccionar un subconjunto específico de columnas y conviertir el DataFrame resultante en un array de NumPy.\n",
    "\n",
    "**iloc[]:** Es un método de pandas que permite la selección por índices de posición (filas y columnas).\n",
    "\n",
    "El **:** antes de la coma significa que seleccionas todas las filas.\n",
    "\n",
    "los **[1,2,3,4,7,8,9,10,11,12,13,14,15,16,17,18,19,20,21]** después de la coma significa que seleccionas las columnas con los índices especificados. En este caso, las columnas con índices 1, 2, 3, 4, 7, 8, 9, 10, 11, 12, 13, 14, 15, 16, 17, 18, 19, 20, y 21.\n",
    "\n",
    "El **-1** después de la coma significa que seleccionas la última columna. En pandas, un índice negativo cuenta desde el final hacia el principio."
   ]
  },
  {
   "cell_type": "code",
   "execution_count": 5,
   "id": "7c9bdbe6-99c0-462c-a859-c143ebd26a70",
   "metadata": {},
   "outputs": [],
   "source": [
    "x = data.iloc[:,[1,2,3,4,7,8,9,10,11,12,13,14,15,16,17,18,19,20,21]].values\n",
    "y = data.iloc[:,-1].values"
   ]
  },
  {
   "cell_type": "code",
   "execution_count": 6,
   "id": "46f029d4-0458-47d3-b399-872a2596a461",
   "metadata": {},
   "outputs": [
    {
     "name": "stdout",
     "output_type": "stream",
     "text": [
      "[['Albury' 13.4 22.9 ... 16.9 21.8 'No']\n",
      " ['Albury' 7.4 25.1 ... 17.2 24.3 'No']\n",
      " ['Albury' 12.9 25.7 ... 21.0 23.2 'No']\n",
      " ...\n",
      " ['Uluru' 5.4 26.9 ... 12.5 26.1 'No']\n",
      " ['Uluru' 7.8 27.0 ... 15.1 26.0 'No']\n",
      " ['Uluru' 14.9 nan ... 15.0 20.9 'No']]\n"
     ]
    }
   ],
   "source": [
    "print(x)"
   ]
  },
  {
   "cell_type": "markdown",
   "id": "5e8b46c1-9412-4f3d-818f-9344ceb49923",
   "metadata": {},
   "source": [
    "#### Etiquetas para los ejes X e Y\n",
    "**.unique()** es un método de pandas que devuelve los valores únicos de la serie. En este caso, devolverá una lista de los valores únicos presentes en la columna RainTomorrow, que son las clases de nuestro problema de clasificación."
   ]
  },
  {
   "cell_type": "code",
   "execution_count": 7,
   "id": "7558b61a-0db2-4c31-b2e5-8e78486307db",
   "metadata": {},
   "outputs": [],
   "source": [
    "class_names = data['RainTomorrow'].unique()"
   ]
  },
  {
   "cell_type": "markdown",
   "id": "790ed8d6-b033-4968-9223-a25d84d98efa",
   "metadata": {},
   "source": [
    "### Y como matriz bidimensional\n",
    "El **reshape** es un método de NumPy que permite cambiar la forma de un array sin cambiar sus datos. La forma del array se especifica mediante una tupla de dimensiones.\n",
    "\n",
    "**Descomposición de y.reshape(-1, 1):**\n",
    "y: Es el array original que contiene la variable objetivo.\n",
    ".reshape(): Es el método de NumPy utilizado para cambiar la forma del array.\n",
    "-1: Este valor indica que el tamaño de esta dimensión debe ser inferido a partir del tamaño original del array y el tamaño de la otra dimensión especificada. En este caso, -1 permite que NumPy determine automáticamente el número correcto de filas basado en el tamaño del array original.\n",
    "1: Este valor indica que la nueva forma debe tener exactamente una columna."
   ]
  },
  {
   "cell_type": "code",
   "execution_count": 8,
   "id": "dc6ce64e-7272-4e7c-8acc-700286b29fab",
   "metadata": {
    "scrolled": true
   },
   "outputs": [
    {
     "name": "stdout",
     "output_type": "stream",
     "text": [
      "[['No']\n",
      " ['No']\n",
      " ['No']\n",
      " ...\n",
      " ['No']\n",
      " ['No']\n",
      " [nan]]\n"
     ]
    }
   ],
   "source": [
    "y =  y.reshape(-1,1)\n",
    "print(y)"
   ]
  },
  {
   "cell_type": "markdown",
   "id": "d7b907ab-91dd-4e8e-bd0a-3729467ab194",
   "metadata": {},
   "source": [
    "### Manejo valores faltantes en tus datos (x e y)\n",
    "El **SimpleImputer**  que se utiliza para imputar (sustituir, rellenar) valores faltantes en los datos.\n",
    "\n",
    "Los parámetros utilizados son:\n",
    "\n",
    "**missing_values=np.nan**: Especifica que los valores faltantes en los datos están representados como np.nan (valores NaN de NumPy).\n",
    "\n",
    "**strategy='most_frequent'**: Especifica que la estrategia de imputación será reemplazar los valores faltantes con el valor más frecuente (la moda) de la columna.\n",
    "\n",
    "**fit_transform(x)**: Ajusta el imputador a x y luego transforma x reemplazando los valores faltantes con la moda de cada columna."
   ]
  },
  {
   "cell_type": "code",
   "execution_count": 9,
   "id": "72ce50a4-7fa7-405d-b073-2df454597130",
   "metadata": {},
   "outputs": [],
   "source": [
    "from sklearn.impute import SimpleImputer\n",
    "imputer = SimpleImputer(missing_values = np.nan, strategy='most_frequent')\n",
    "X = imputer.fit_transform(x)\n",
    "Y = imputer.fit_transform(y)"
   ]
  },
  {
   "cell_type": "code",
   "execution_count": 10,
   "id": "bbce3d80-e0c6-4ab0-acaf-1ab527bcd5a1",
   "metadata": {},
   "outputs": [
    {
     "name": "stdout",
     "output_type": "stream",
     "text": [
      "[['Albury' 13.4 22.9 ... 16.9 21.8 'No']\n",
      " ['Albury' 7.4 25.1 ... 17.2 24.3 'No']\n",
      " ['Albury' 12.9 25.7 ... 21.0 23.2 'No']\n",
      " ...\n",
      " ['Uluru' 5.4 26.9 ... 12.5 26.1 'No']\n",
      " ['Uluru' 7.8 27.0 ... 15.1 26.0 'No']\n",
      " ['Uluru' 14.9 20.0 ... 15.0 20.9 'No']]\n"
     ]
    }
   ],
   "source": [
    "print(X)"
   ]
  },
  {
   "cell_type": "code",
   "execution_count": 11,
   "id": "1156972e-bc8e-450d-be7a-2fd837a44c9d",
   "metadata": {},
   "outputs": [
    {
     "name": "stdout",
     "output_type": "stream",
     "text": [
      "[['No']\n",
      " ['No']\n",
      " ['No']\n",
      " ...\n",
      " ['No']\n",
      " ['No']\n",
      " ['No']]\n"
     ]
    }
   ],
   "source": [
    "print(Y)"
   ]
  },
  {
   "cell_type": "markdown",
   "id": "eca0edfd-9c65-4d18-8b5f-df55ec25351e",
   "metadata": {},
   "source": [
    " ### Transformar variables categóricas en variables numéricas.\n",
    "El **LabelEncoder** asigna un número único a cada categoría en las columnas categóricas y a la variable de destino Y.\n",
    "\n",
    "Se crea objetos LabelEncoder para cada columna categórica y para la variable de destino (Y).\n",
    "\n",
    "y se transforma las variables categóricas en números enteros utilizando cada objeto LabelEncoder."
   ]
  },
  {
   "cell_type": "code",
   "execution_count": 12,
   "id": "9b4fc984-a080-40c2-b0ed-e97e041fe62b",
   "metadata": {},
   "outputs": [
    {
     "name": "stderr",
     "output_type": "stream",
     "text": [
      "C:\\Users\\Hendrik\\anaconda3\\envs\\tf\\lib\\site-packages\\sklearn\\preprocessing\\_label.py:114: DataConversionWarning: A column-vector y was passed when a 1d array was expected. Please change the shape of y to (n_samples, ), for example using ravel().\n",
      "  y = column_or_1d(y, warn=True)\n"
     ]
    }
   ],
   "source": [
    "from sklearn.preprocessing import LabelEncoder\n",
    "le1 = LabelEncoder()\n",
    "X[:,0] = le1.fit_transform(X[:,0])\n",
    "le2 = LabelEncoder()\n",
    "X[:,4] = le2.fit_transform(X[:,4])\n",
    "le3 = LabelEncoder()\n",
    "X[:,6] = le3.fit_transform(X[:,6])\n",
    "le4 = LabelEncoder()\n",
    "X[:,7] = le4.fit_transform(X[:,7])\n",
    "le5 = LabelEncoder()\n",
    "X[:,-1] = le5.fit_transform(X[:,-1])\n",
    "le6 = LabelEncoder()\n",
    "Y = le6.fit_transform(Y)"
   ]
  },
  {
   "cell_type": "code",
   "execution_count": 13,
   "id": "6ce4d87d-bd6e-4a92-a9c5-12eea391a05d",
   "metadata": {},
   "outputs": [
    {
     "name": "stdout",
     "output_type": "stream",
     "text": [
      "[[2 13.4 22.9 ... 16.9 21.8 0]\n",
      " [2 7.4 25.1 ... 17.2 24.3 0]\n",
      " [2 12.9 25.7 ... 21.0 23.2 0]\n",
      " ...\n",
      " [41 5.4 26.9 ... 12.5 26.1 0]\n",
      " [41 7.8 27.0 ... 15.1 26.0 0]\n",
      " [41 14.9 20.0 ... 15.0 20.9 0]]\n"
     ]
    }
   ],
   "source": [
    "print(X)"
   ]
  },
  {
   "cell_type": "code",
   "execution_count": 14,
   "id": "4e9c49fd-7985-49ff-935f-0f561b4fb48e",
   "metadata": {},
   "outputs": [
    {
     "name": "stdout",
     "output_type": "stream",
     "text": [
      "[[0]\n",
      " [0]\n",
      " [0]\n",
      " ...\n",
      " [0]\n",
      " [0]\n",
      " [0]]\n"
     ]
    }
   ],
   "source": [
    "Y = Y.reshape(-1,1)\n",
    "print(Y)"
   ]
  },
  {
   "cell_type": "code",
   "execution_count": 15,
   "id": "d5768a49-8a2a-4d05-aa79-e725c65ffaee",
   "metadata": {},
   "outputs": [
    {
     "name": "stdout",
     "output_type": "stream",
     "text": [
      "[[0.]\n",
      " [0.]\n",
      " [0.]\n",
      " ...\n",
      " [0.]\n",
      " [0.]\n",
      " [0.]]\n"
     ]
    }
   ],
   "source": [
    "Y = np.array(Y,dtype=float)\n",
    "print(Y)"
   ]
  },
  {
   "cell_type": "markdown",
   "id": "9f14ee53-fb82-457a-bea4-fb3b5e17c663",
   "metadata": {},
   "source": [
    "### Normalización de los datos:\n",
    "\n",
    "**StandardScaler**: Es una técnica común para escalar características (variables) de manera que tengan una media de 0 y una desviación estándar de 1. Esto es útil para algoritmos que asumen que las características están centradas alrededor de cero y tienen la misma escala.\n",
    "\n",
    "**sc.fit_transform(X):** fit_transform primero ajusta (calcula la media y la desviación estándar) a los datos de entrada X y luego transforma X utilizando estas estadísticas para centrar los datos alrededor de cero y escalarlos."
   ]
  },
  {
   "cell_type": "code",
   "execution_count": 16,
   "id": "9e3f2620-f661-4c4a-811b-c48ad3e8113e",
   "metadata": {},
   "outputs": [],
   "source": [
    "from sklearn.preprocessing import StandardScaler\n",
    "sc = StandardScaler()\n",
    "X = sc.fit_transform(X)"
   ]
  },
  {
   "cell_type": "code",
   "execution_count": 17,
   "id": "a8746871-f8a1-466f-b37b-23e77b4985d9",
   "metadata": {},
   "outputs": [],
   "source": [
    "# Dividir los datos en entrenamiento y prueba\n",
    "X_train, X_test, y_train, y_test = train_test_split(X, Y, test_size=0.2, random_state=0)"
   ]
  },
  {
   "cell_type": "markdown",
   "id": "37832066-6ac5-4325-9161-532acc6303d4",
   "metadata": {},
   "source": [
    "## Introducción a las Pruebas y Validación\n",
    "\n",
    "La validación y prueba de modelos son cruciales para verificar la eficacia y la seguridad antes de desplegar los modelos en producción. Esto incluye técnicas de validación cruzada y el uso de métricas de evaluación específicas para asegurar que los modelos funcionen bien en datos nuevos y desconocidos.\n"
   ]
  },
  {
   "cell_type": "markdown",
   "id": "a75f92dd-f756-42fa-addd-7d319b62c586",
   "metadata": {},
   "source": [
    "## Técnicas de Validación Cruzada\n",
    "\n",
    "La validación cruzada es una técnica para evaluar la generalización de los modelos estadísticos. Aquí veremos cómo implementar la validación cruzada de K-folds utilizando Scikit-learn.\n",
    "\n",
    "\n"
   ]
  },
  {
   "cell_type": "code",
   "execution_count": 18,
   "id": "9ca20de8-9fdb-41fb-a72e-0609eb40d319",
   "metadata": {},
   "outputs": [
    {
     "name": "stderr",
     "output_type": "stream",
     "text": [
      "C:\\Users\\Hendrik\\anaconda3\\envs\\tf\\lib\\site-packages\\sklearn\\base.py:1474: DataConversionWarning: A column-vector y was passed when a 1d array was expected. Please change the shape of y to (n_samples,), for example using ravel().\n",
      "  return fit_method(estimator, *args, **kwargs)\n",
      "C:\\Users\\Hendrik\\anaconda3\\envs\\tf\\lib\\site-packages\\sklearn\\base.py:1474: DataConversionWarning: A column-vector y was passed when a 1d array was expected. Please change the shape of y to (n_samples,), for example using ravel().\n",
      "  return fit_method(estimator, *args, **kwargs)\n",
      "C:\\Users\\Hendrik\\anaconda3\\envs\\tf\\lib\\site-packages\\sklearn\\base.py:1474: DataConversionWarning: A column-vector y was passed when a 1d array was expected. Please change the shape of y to (n_samples,), for example using ravel().\n",
      "  return fit_method(estimator, *args, **kwargs)\n",
      "C:\\Users\\Hendrik\\anaconda3\\envs\\tf\\lib\\site-packages\\sklearn\\base.py:1474: DataConversionWarning: A column-vector y was passed when a 1d array was expected. Please change the shape of y to (n_samples,), for example using ravel().\n",
      "  return fit_method(estimator, *args, **kwargs)\n",
      "C:\\Users\\Hendrik\\anaconda3\\envs\\tf\\lib\\site-packages\\sklearn\\base.py:1474: DataConversionWarning: A column-vector y was passed when a 1d array was expected. Please change the shape of y to (n_samples,), for example using ravel().\n",
      "  return fit_method(estimator, *args, **kwargs)\n"
     ]
    },
    {
     "name": "stdout",
     "output_type": "stream",
     "text": [
      "Resultados de CV: [0.85309788 0.85077769 0.85404314 0.85657199 0.85150174]\n",
      "Promedio de CV: 0.85\n"
     ]
    }
   ],
   "source": [
    "from sklearn.model_selection import KFold\n",
    "from sklearn.model_selection import cross_val_score\n",
    "# Implementación de K-Fold Cross Validation\n",
    "kf = KFold(n_splits=5, random_state=42, shuffle=True)\n",
    "model = RandomForestClassifier(n_estimators=100, random_state=42)\n",
    "cv_results = cross_val_score(model, X_train, y_train, cv=kf, scoring='accuracy')\n",
    "\n",
    "print(f\"Resultados de CV: {cv_results}\")\n",
    "print(f\"Promedio de CV: {cv_results.mean():.2f}\")"
   ]
  },
  {
   "cell_type": "markdown",
   "id": "d49d5ff1-d973-4456-a84f-8290530b248f",
   "metadata": {},
   "source": [
    "### Explicación de los Resultados de la Validación Cruzada\n",
    "\n",
    "#### Resultados de la Validación Cruzada\n",
    "\n",
    "```plaintext\n",
    "Resultados de CV: [0.85309788 0.85077769 0.85404314 0.85657199 0.85150174]\n",
    "Promedio de CV: 0.85\n",
    "```\n",
    "\n",
    "#### Desglose de los Resultados\n",
    "\n",
    "1. **Interpretación de los Resultados de CV**:\n",
    "\n",
    "   Los resultados de la precición específicos para cada pliegue son:\n",
    "   - **Primera iteración**: 0.85309788\n",
    "   - **Segunda iteración**: 0.85077769\n",
    "   - **Tercera iteración**: 0.85404314\n",
    "   - **Cuarta iteración**: 0.85657199\n",
    "   - **Quinta iteración**: 0.85150174\n",
    "\n",
    "2. **Promedio de CV**:\n",
    "   $$\n",
    "   \\text{Promedio de CV} = \\frac{0.85309788 + 0.85077769 + 0.85404314 + 0.85657199 + 0.85150174}{5} = 0.85\n",
    "   $$\n",
    "\n",
    "#### Análisis de los Resultados\n",
    "\n",
    "1. **Consistencia del Modelo**:\n",
    "   - Como se puede observar tenemos resultados basntante consistentes ya que su variabilidad se presenta en el 0.00X y varia entre 0.850 y 0.856.\n",
    "   - Esta consistencia sugiere que el modelo es robusto y no está demasiado ajustado a una sola partición del conjunto de datos, lo que es una buena indicación de su capacidad de generalización.\n",
    "\n",
    "2. **Interpretación del Promedio de CV**:\n",
    "   - Ahora bien el promedio de 0.85 indica que, en promedio, el modelo tiene una precisión del 85% en predecir correctamente las clases de las instancias en el conjunto de validación, lo cual si lo comparamos segun lo observado en el ejemplo del profesor es bastante bajo (95%) Sin embargo este aun asi es alto por lo que podria tener un rendimiento aceptable en general.\n",
    "\n",
    "3. **Desempeño de los Pliegues Extremos**:\n",
    "   - El valor más bajo (0.85077769) y el valor más alto 0.85657199) indican las variaciones en el desempeño del modelo en diferentes particiones del conjunto de datos.\n",
    "   - La variabilidad es muy pequeña por lo cual podemos decir que poseen pocas variaciones ya sea por los datos manejados o que tal vez no estemos usando un modelo optimo..\n",
    "\n",
    "#### Conclusión\n",
    "La validación cruzada, con un promedio de precisión de 0.85 y resultados consistentes en todos los pliegues, indica que el modelo tiene cierta robustez y puede generalizar a un cierto grado. Sin embargo, esta evaluación es esencial para tener confianza en el modelo antes de su implementación en un entorno de producción. La validación cruzada ayuda a verificar que el modelo no esté sobreajustado a un solo conjunto de datos y que pueda mantener su rendimiento cuando se enfrente a datos no vistos. Sin embargo, la disminución en la precisión podría sugerir que quizás se esté utilizando un modelo inadecuado para los datos en cuestión."
   ]
  },
  {
   "cell_type": "markdown",
   "id": "3f9bbbe5-5d41-4415-82fe-b5b3deae776b",
   "metadata": {},
   "source": [
    "### Matriz de Confusión\n",
    "\n",
    "Una matriz de confusión proporciona una representación tabular del rendimiento de un algoritmo de clasificación, mostrando el número de instancias clasificadas correctamente e incorrectamente para cada clase. Vamos a interpretar la matriz de confusión proporcionada:\n"
   ]
  },
  {
   "cell_type": "code",
   "execution_count": 20,
   "id": "76cf7dc2-0243-4145-a9a3-2e9f69584640",
   "metadata": {},
   "outputs": [
    {
     "name": "stderr",
     "output_type": "stream",
     "text": [
      "C:\\Users\\Hendrik\\anaconda3\\envs\\tf\\lib\\site-packages\\sklearn\\base.py:1474: DataConversionWarning: A column-vector y was passed when a 1d array was expected. Please change the shape of y to (n_samples,), for example using ravel().\n",
      "  return fit_method(estimator, *args, **kwargs)\n"
     ]
    },
    {
     "data": {
      "image/png": "[encoded data removed]",
      "text/plain": [
       "<Figure size 1000x700 with 2 Axes>"
      ]
     },
     "metadata": {},
     "output_type": "display_data"
    }
   ],
   "source": [
    "# Entrenar el modelo\n",
    "model = RandomForestClassifier(n_estimators=100, random_state=42)\n",
    "model.fit(X_train, y_train)\n",
    "\n",
    "# Realizar predicciones\n",
    "y_pred = model.predict(X_test)\n",
    "\n",
    "# Generar la matriz de confusión\n",
    "cm = confusion_matrix(y_test, y_pred)\n",
    "\n",
    "# Visualizar la matriz de confusión usando Matplotlib y Seaborn\n",
    "plt.figure(figsize=(10, 7))\n",
    "sns.heatmap(cm, annot=True, fmt='d', cmap='Blues',xticklabels=class_names, yticklabels=class_names)\n",
    "plt.xlabel('Predicted')\n",
    "plt.ylabel('Actual')\n",
    "plt.title('Confusion Matrix')\n",
    "plt.show()"
   ]
  },
  {
   "cell_type": "code",
   "execution_count": 21,
   "id": "9e5646ea-6c16-41a4-9110-8321d84b257f",
   "metadata": {},
   "outputs": [
    {
     "data": {
      "text/plain": [
       "array([[21739,   987],\n",
       "       [ 3271,  3095]], dtype=int64)"
      ]
     },
     "execution_count": 21,
     "metadata": {},
     "output_type": "execute_result"
    }
   ],
   "source": [
    "cm"
   ]
  },
  {
   "cell_type": "markdown",
   "id": "e9569a4b-7def-4c3c-9ba9-f76e44c8ee47",
   "metadata": {},
   "source": [
    "### Interpretación de la Matriz de Confusión\n",
    "\n",
    " Vamos a interpretar la matriz de confusión proporcionada:\n",
    "\n",
    "```plaintext\n",
    "        [[21739,   987],\n",
    "       [ 3271,  3095]]\n",
    "```\n",
    "\n",
    "#### Estructura de la Matriz de Confusión\n",
    "La matriz tiene la siguiente estructura:\n",
    "\n",
    "```\n",
    "              Predicted Class\n",
    "              |   No Llueve   |   Llueve   |\n",
    "Actual Class  |---------------|------------|\n",
    "    No Llueve |  TP           |       FP   |\n",
    "              |---------------|------------|\n",
    "    Llueve    |  FN           |       TN   |\n",
    "```\n",
    "\n",
    "Donde:\n",
    "- **TP (True Positive)**: Número de instancias que fueron predichas como 'No Llueve' y realmente eran 'No Llueve'.\n",
    "- **FP (False Positive)**: Número de instancias que fueron predichas como 'Llueve' pero realmente eran 'No Llueve'.\n",
    "- **FN (False Negative)**: Número de instancias que fueron predichas como 'No Llueve' pero realmente eran 'Llueve'.\n",
    "- **TN (True Negative)**: Número de instancias que fueron predichas como 'Llueve' y realmente eran 'Llueve'.\n",
    "\n",
    "#### Interpretación de los Resultados\n",
    "\n",
    "1. **True Positives (TP)**:\n",
    "   - **Valor**: 21739\n",
    "   - **Interpretación**: El modelo predijo correctamente 21739 instancias como \"No Llueve\".\n",
    "\n",
    "2. **False Positives (FP)**:\n",
    "   - **Valor**: 987\n",
    "   - **Interpretación**: El modelo incorrectamente predijo 987 instancias como \"Llueve\" cuando era \"No Llueve\".\n",
    "\n",
    "3. **False Negatives (FN)**:\n",
    "   - **Valor**: 3271\n",
    "   - **Interpretación**: El modelo incorrectamente predijo 3271 instancia como \"No Llueve\" cuando era \"Llueve\".\n",
    "4. **True Negatives (TN)**:\n",
    "   - **Valor**: 3095\n",
    "   - **Interpretación**: El modelo predijo correctamente 3095 instancias como \"Llueve\".\n",
    "\n",
    "\n",
    "### Conclusión\n",
    "Como podemos observar el modelo indicó que cuando se trata de no lluvia es bastante acertado sin embargo al ver las FN podemos ver que el modelo está perdiendo muchas instancias que en realidad era LLueve. "
   ]
  },
  {
   "cell_type": "code",
   "execution_count": null,
   "id": "b485e9f7-ba1c-4bee-b05b-36f11647cbdf",
   "metadata": {},
   "outputs": [],
   "source": []
  }
 ],
 "metadata": {
  "kernelspec": {
   "display_name": "Python 3 (ipykernel)",
   "language": "python",
   "name": "python3"
  },
  "language_info": {
   "codemirror_mode": {
    "name": "ipython",
    "version": 3
   },
   "file_extension": ".py",
   "mimetype": "text/x-python",
   "name": "python",
   "nbconvert_exporter": "python",
   "pygments_lexer": "ipython3",
   "version": "3.10.13"
  }
 },
 "nbformat": 4,
 "nbformat_minor": 5
}
